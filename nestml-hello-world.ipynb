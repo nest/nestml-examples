{
 "cells": [
  {
   "cell_type": "code",
   "execution_count": 1,
   "id": "7ce6d3f7-d675-43f1-a007-75ca8a6f837e",
   "metadata": {},
   "outputs": [],
   "source": [
    "import nest                                                          # import NEST module\n",
    "import matplotlib.pyplot as plt                                      # for plotting\n",
    "from pynestml.frontend.pynestml_frontend import generate_nest_target # NESTML"
   ]
  },
  {
   "cell_type": "code",
   "execution_count": 1,
   "id": "e8d70529-3130-4b32-b495-18c2c888bd92",
   "metadata": {},
   "outputs": [],
   "source": [
    "# compile nestml model (needs to be done only once)\n",
    "generate_nest_target(input_path=\"./iaf_psc_exp.nestml\",\n",
    "                     target_path=\"./nestml_target\",\n",
    "                     suffix=\"_nestml\",                     \n",
    "                     logging_level='ERROR')    \n",
    "\n",
    "# install resulting NESTML module to make models available in NEST\n",
    "nest.Install('nestmlmodule') "
   ]
  },
  {
   "cell_type": "code",
   "execution_count": 1,
   "id": "6f244edf-cefb-46cc-89fd-79978763eea1",
   "metadata": {},
   "outputs": [],
   "source": [
    "nest.ResetKernel() # reset simulation kernel \n",
    "\n",
    "neuron=nest.Create('iaf_psc_exp_nestml') # create LIF neuron with exponential synaptic currents\n",
    "\n",
    "# create a spike generator, and set it up to create two spikes at 10 and 30ms\n",
    "spikegenerator=nest.Create('spike_generator', params={'spike_times': [10.,30.]}) \n",
    "\n",
    "# create multimeter and set it up to record the membrane potential V_m\n",
    "multimeter=nest.Create('multimeter', {'record_from': ['V_m']})\n",
    "\n",
    "# connect spike generator with neuron with synaptic weight 100 pA\n",
    "nest.Connect(spikegenerator, neuron,syn_spec={'weight': 50.0})\n",
    "\n",
    "nest.Connect(multimeter, neuron)  # connect multimeter to the neuron\n",
    "\n",
    "nest.Simulate(100.) # run simulation for 100ms\n",
    "\n",
    "# read out recording time and voltage from voltmeter\n",
    "times=multimeter.get('events')['times']\n",
    "voltage=multimeter.get('events')['V_m']"
   ]
  },
  {
   "cell_type": "code",
   "execution_count": 1,
   "id": "208862eb-284d-47fb-904d-fc12e7e144f7",
   "metadata": {},
   "outputs": [
    {
     "name": "stdout",
     "output_type": "stream",
     "text": [
      "\n",
      "              -- N E S T --\n",
      "  Copyright (C) 2004 The NEST Initiative\n",
      "\n",
      " Version: 3.6.0\n",
      " Built: Sep 28 2023 14:13:37\n",
      "\n",
      " This program is provided AS IS and comes with\n",
      " NO WARRANTY. See the file LICENSE for details.\n",
      "\n",
      " Problems or suggestions?\n",
      "   Visit https://www.nest-simulator.org\n",
      "\n",
      " Type 'nest.help()' to find out more about NEST.\n",
      "\n"
     ]
    },
    {
     "name": "stderr",
     "output_type": "stream",
     "text": [
      "WARNING:root:PyGSL is not available. The stiffness test will be skipped.\n",
      "WARNING:root:Error when importing: No module named 'pygsl'\n"
     ]
    },
    {
     "name": "stdout",
     "output_type": "stream",
     "text": [
      "\n",
      "              -- N E S T --\n",
      "  Copyright (C) 2004 The NEST Initiative\n",
      "\n",
      " Version: 3.6.0\n",
      " Built: Sep 28 2023 14:13:37\n",
      "\n",
      " This program is provided AS IS and comes with\n",
      " NO WARRANTY. See the file LICENSE for details.\n",
      "\n",
      " Problems or suggestions?\n",
      "   Visit https://www.nest-simulator.org\n",
      "\n",
      " Type 'nest.help()' to find out more about NEST.\n",
      "\n"
     ]
    },
    {
     "ename": "ExecutableNotFound",
     "evalue": "failed to execute ['dot', '-Tpdf', '-O', 'ode_dependency_graph_before.dot'], make sure the Graphviz executables are on your systems' PATH",
     "output_type": "error",
     "traceback": [
      "\u001b[0;31m---------------------------------------------------------------------------\u001b[0m",
      "\u001b[0;31mFileNotFoundError\u001b[0m                         Traceback (most recent call last)",
      "File \u001b[0;32m/srv/test-build-2309/spack/var/spack/environments/test/.spack-env/view/lib/python3.8/site-packages/graphviz/backend.py:159\u001b[0m, in \u001b[0;36mrun\u001b[0;34m(cmd, input, capture_output, check, quiet, **kwargs)\u001b[0m\n\u001b[1;32m    158\u001b[0m \u001b[38;5;28;01mtry\u001b[39;00m:\n\u001b[0;32m--> 159\u001b[0m     proc \u001b[38;5;241m=\u001b[39m \u001b[43msubprocess\u001b[49m\u001b[38;5;241;43m.\u001b[39;49m\u001b[43mPopen\u001b[49m\u001b[43m(\u001b[49m\u001b[43mcmd\u001b[49m\u001b[43m,\u001b[49m\u001b[43m \u001b[49m\u001b[43mstartupinfo\u001b[49m\u001b[38;5;241;43m=\u001b[39;49m\u001b[43mget_startupinfo\u001b[49m\u001b[43m(\u001b[49m\u001b[43m)\u001b[49m\u001b[43m,\u001b[49m\u001b[43m \u001b[49m\u001b[38;5;241;43m*\u001b[39;49m\u001b[38;5;241;43m*\u001b[39;49m\u001b[43mkwargs\u001b[49m\u001b[43m)\u001b[49m\n\u001b[1;32m    160\u001b[0m \u001b[38;5;28;01mexcept\u001b[39;00m \u001b[38;5;167;01mOSError\u001b[39;00m \u001b[38;5;28;01mas\u001b[39;00m e:\n",
      "File \u001b[0;32m/srv/test-build-2309/spack/var/spack/environments/test/.spack-env/._view/fcvpqcfelau7m3kwmlffehnxon77skii/lib/python3.8/subprocess.py:858\u001b[0m, in \u001b[0;36mPopen.__init__\u001b[0;34m(self, args, bufsize, executable, stdin, stdout, stderr, preexec_fn, close_fds, shell, cwd, env, universal_newlines, startupinfo, creationflags, restore_signals, start_new_session, pass_fds, encoding, errors, text)\u001b[0m\n\u001b[1;32m    855\u001b[0m             \u001b[38;5;28mself\u001b[39m\u001b[38;5;241m.\u001b[39mstderr \u001b[38;5;241m=\u001b[39m io\u001b[38;5;241m.\u001b[39mTextIOWrapper(\u001b[38;5;28mself\u001b[39m\u001b[38;5;241m.\u001b[39mstderr,\n\u001b[1;32m    856\u001b[0m                     encoding\u001b[38;5;241m=\u001b[39mencoding, errors\u001b[38;5;241m=\u001b[39merrors)\n\u001b[0;32m--> 858\u001b[0m     \u001b[38;5;28;43mself\u001b[39;49m\u001b[38;5;241;43m.\u001b[39;49m\u001b[43m_execute_child\u001b[49m\u001b[43m(\u001b[49m\u001b[43margs\u001b[49m\u001b[43m,\u001b[49m\u001b[43m \u001b[49m\u001b[43mexecutable\u001b[49m\u001b[43m,\u001b[49m\u001b[43m \u001b[49m\u001b[43mpreexec_fn\u001b[49m\u001b[43m,\u001b[49m\u001b[43m \u001b[49m\u001b[43mclose_fds\u001b[49m\u001b[43m,\u001b[49m\n\u001b[1;32m    859\u001b[0m \u001b[43m                        \u001b[49m\u001b[43mpass_fds\u001b[49m\u001b[43m,\u001b[49m\u001b[43m \u001b[49m\u001b[43mcwd\u001b[49m\u001b[43m,\u001b[49m\u001b[43m \u001b[49m\u001b[43menv\u001b[49m\u001b[43m,\u001b[49m\n\u001b[1;32m    860\u001b[0m \u001b[43m                        \u001b[49m\u001b[43mstartupinfo\u001b[49m\u001b[43m,\u001b[49m\u001b[43m \u001b[49m\u001b[43mcreationflags\u001b[49m\u001b[43m,\u001b[49m\u001b[43m \u001b[49m\u001b[43mshell\u001b[49m\u001b[43m,\u001b[49m\n\u001b[1;32m    861\u001b[0m \u001b[43m                        \u001b[49m\u001b[43mp2cread\u001b[49m\u001b[43m,\u001b[49m\u001b[43m \u001b[49m\u001b[43mp2cwrite\u001b[49m\u001b[43m,\u001b[49m\n\u001b[1;32m    862\u001b[0m \u001b[43m                        \u001b[49m\u001b[43mc2pread\u001b[49m\u001b[43m,\u001b[49m\u001b[43m \u001b[49m\u001b[43mc2pwrite\u001b[49m\u001b[43m,\u001b[49m\n\u001b[1;32m    863\u001b[0m \u001b[43m                        \u001b[49m\u001b[43merrread\u001b[49m\u001b[43m,\u001b[49m\u001b[43m \u001b[49m\u001b[43merrwrite\u001b[49m\u001b[43m,\u001b[49m\n\u001b[1;32m    864\u001b[0m \u001b[43m                        \u001b[49m\u001b[43mrestore_signals\u001b[49m\u001b[43m,\u001b[49m\u001b[43m \u001b[49m\u001b[43mstart_new_session\u001b[49m\u001b[43m)\u001b[49m\n\u001b[1;32m    865\u001b[0m \u001b[38;5;28;01mexcept\u001b[39;00m:\n\u001b[1;32m    866\u001b[0m     \u001b[38;5;66;03m# Cleanup if the child failed starting.\u001b[39;00m\n",
      "File \u001b[0;32m/srv/test-build-2309/spack/var/spack/environments/test/.spack-env/._view/fcvpqcfelau7m3kwmlffehnxon77skii/lib/python3.8/subprocess.py:1704\u001b[0m, in \u001b[0;36mPopen._execute_child\u001b[0;34m(self, args, executable, preexec_fn, close_fds, pass_fds, cwd, env, startupinfo, creationflags, shell, p2cread, p2cwrite, c2pread, c2pwrite, errread, errwrite, restore_signals, start_new_session)\u001b[0m\n\u001b[1;32m   1703\u001b[0m         err_msg \u001b[38;5;241m=\u001b[39m os\u001b[38;5;241m.\u001b[39mstrerror(errno_num)\n\u001b[0;32m-> 1704\u001b[0m     \u001b[38;5;28;01mraise\u001b[39;00m child_exception_type(errno_num, err_msg, err_filename)\n\u001b[1;32m   1705\u001b[0m \u001b[38;5;28;01mraise\u001b[39;00m child_exception_type(err_msg)\n",
      "\u001b[0;31mFileNotFoundError\u001b[0m: [Errno 2] No such file or directory: 'dot'",
      "\nDuring handling of the above exception, another exception occurred:\n",
      "\u001b[0;31mExecutableNotFound\u001b[0m                        Traceback (most recent call last)",
      "Cell \u001b[0;32mIn[1], line 6\u001b[0m\n\u001b[1;32m      3\u001b[0m \u001b[38;5;28;01mfrom\u001b[39;00m \u001b[38;5;21;01mpynestml\u001b[39;00m\u001b[38;5;21;01m.\u001b[39;00m\u001b[38;5;21;01mfrontend\u001b[39;00m\u001b[38;5;21;01m.\u001b[39;00m\u001b[38;5;21;01mpynestml_frontend\u001b[39;00m \u001b[38;5;28;01mimport\u001b[39;00m generate_nest_target \u001b[38;5;66;03m# NESTML\u001b[39;00m\n\u001b[1;32m      5\u001b[0m \u001b[38;5;66;03m# compile nestml model (needs to be done only once)\u001b[39;00m\n\u001b[0;32m----> 6\u001b[0m generate_nest_target(input_path\u001b[38;5;241m=\u001b[39m\u001b[38;5;124m\"\u001b[39m\u001b[38;5;124m./nestml/iaf_psc_exp.nestml\u001b[39m\u001b[38;5;124m\"\u001b[39m,\n\u001b[1;32m      7\u001b[0m                      target_path\u001b[38;5;241m=\u001b[39m\u001b[38;5;124m\"\u001b[39m\u001b[38;5;124m./nestml_target\u001b[39m\u001b[38;5;124m\"\u001b[39m,\n\u001b[1;32m      8\u001b[0m                      suffix\u001b[38;5;241m=\u001b[39m\u001b[38;5;124m\"\u001b[39m\u001b[38;5;124m_nestml\u001b[39m\u001b[38;5;124m\"\u001b[39m,                     \n\u001b[1;32m      9\u001b[0m                      logging_level\u001b[38;5;241m=\u001b[39m\u001b[38;5;124m'\u001b[39m\u001b[38;5;124mERROR\u001b[39m\u001b[38;5;124m'\u001b[39m)    \n\u001b[1;32m     11\u001b[0m \u001b[38;5;66;03m# install resulting NESTML module to make models available in NEST\u001b[39;00m\n\u001b[1;32m     12\u001b[0m nest\u001b[38;5;241m.\u001b[39mInstall(\u001b[38;5;124m'\u001b[39m\u001b[38;5;124mnestmlmodule\u001b[39m\u001b[38;5;124m'\u001b[39m) \n",
      "File \u001b[0;32m/srv/test-build-2309/spack/var/spack/environments/test/.spack-env/view/lib/python3.8/site-packages/pynestml/frontend/pynestml_frontend.py:229\u001b[0m, in \u001b[0;36mgenerate_nest_target\u001b[0;34m(input_path, target_path, install_path, logging_level, module_name, store_log, suffix, dev, codegen_opts)\u001b[0m\n\u001b[1;32m    202\u001b[0m \u001b[38;5;28;01mdef\u001b[39;00m \u001b[38;5;21mgenerate_nest_target\u001b[39m(input_path: Union[\u001b[38;5;28mstr\u001b[39m, Sequence[\u001b[38;5;28mstr\u001b[39m]], target_path: Optional[\u001b[38;5;28mstr\u001b[39m] \u001b[38;5;241m=\u001b[39m \u001b[38;5;28;01mNone\u001b[39;00m,\n\u001b[1;32m    203\u001b[0m                          install_path: Optional[\u001b[38;5;28mstr\u001b[39m] \u001b[38;5;241m=\u001b[39m \u001b[38;5;28;01mNone\u001b[39;00m, logging_level\u001b[38;5;241m=\u001b[39m\u001b[38;5;124m\"\u001b[39m\u001b[38;5;124mERROR\u001b[39m\u001b[38;5;124m\"\u001b[39m,\n\u001b[1;32m    204\u001b[0m                          module_name\u001b[38;5;241m=\u001b[39m\u001b[38;5;28;01mNone\u001b[39;00m, store_log: \u001b[38;5;28mbool\u001b[39m \u001b[38;5;241m=\u001b[39m \u001b[38;5;28;01mFalse\u001b[39;00m, suffix: \u001b[38;5;28mstr\u001b[39m \u001b[38;5;241m=\u001b[39m \u001b[38;5;124m\"\u001b[39m\u001b[38;5;124m\"\u001b[39m,\n\u001b[1;32m    205\u001b[0m                          dev: \u001b[38;5;28mbool\u001b[39m \u001b[38;5;241m=\u001b[39m \u001b[38;5;28;01mFalse\u001b[39;00m, codegen_opts: Optional[Mapping[\u001b[38;5;28mstr\u001b[39m, Any]] \u001b[38;5;241m=\u001b[39m \u001b[38;5;28;01mNone\u001b[39;00m):\n\u001b[1;32m    206\u001b[0m     \u001b[38;5;124mr\u001b[39m\u001b[38;5;124;03m\"\"\"Generate and build code for NEST Simulator.\u001b[39;00m\n\u001b[1;32m    207\u001b[0m \n\u001b[1;32m    208\u001b[0m \u001b[38;5;124;03m    Parameters\u001b[39;00m\n\u001b[0;32m   (...)\u001b[0m\n\u001b[1;32m    227\u001b[0m \u001b[38;5;124;03m        A dictionary containing additional options for the target code generator.\u001b[39;00m\n\u001b[1;32m    228\u001b[0m \u001b[38;5;124;03m    \"\"\"\u001b[39;00m\n\u001b[0;32m--> 229\u001b[0m     \u001b[43mgenerate_target\u001b[49m\u001b[43m(\u001b[49m\u001b[43minput_path\u001b[49m\u001b[43m,\u001b[49m\u001b[43m \u001b[49m\u001b[43mtarget_platform\u001b[49m\u001b[38;5;241;43m=\u001b[39;49m\u001b[38;5;124;43m\"\u001b[39;49m\u001b[38;5;124;43mNEST\u001b[39;49m\u001b[38;5;124;43m\"\u001b[39;49m\u001b[43m,\u001b[49m\u001b[43m \u001b[49m\u001b[43mtarget_path\u001b[49m\u001b[38;5;241;43m=\u001b[39;49m\u001b[43mtarget_path\u001b[49m\u001b[43m,\u001b[49m\u001b[43m \u001b[49m\u001b[43mlogging_level\u001b[49m\u001b[38;5;241;43m=\u001b[39;49m\u001b[43mlogging_level\u001b[49m\u001b[43m,\u001b[49m\n\u001b[1;32m    230\u001b[0m \u001b[43m                    \u001b[49m\u001b[43mmodule_name\u001b[49m\u001b[38;5;241;43m=\u001b[39;49m\u001b[43mmodule_name\u001b[49m\u001b[43m,\u001b[49m\u001b[43m \u001b[49m\u001b[43mstore_log\u001b[49m\u001b[38;5;241;43m=\u001b[39;49m\u001b[43mstore_log\u001b[49m\u001b[43m,\u001b[49m\u001b[43m \u001b[49m\u001b[43msuffix\u001b[49m\u001b[38;5;241;43m=\u001b[39;49m\u001b[43msuffix\u001b[49m\u001b[43m,\u001b[49m\u001b[43m \u001b[49m\u001b[43minstall_path\u001b[49m\u001b[38;5;241;43m=\u001b[39;49m\u001b[43minstall_path\u001b[49m\u001b[43m,\u001b[49m\n\u001b[1;32m    231\u001b[0m \u001b[43m                    \u001b[49m\u001b[43mdev\u001b[49m\u001b[38;5;241;43m=\u001b[39;49m\u001b[43mdev\u001b[49m\u001b[43m,\u001b[49m\u001b[43m \u001b[49m\u001b[43mcodegen_opts\u001b[49m\u001b[38;5;241;43m=\u001b[39;49m\u001b[43mcodegen_opts\u001b[49m\u001b[43m)\u001b[49m\n",
      "File \u001b[0;32m/srv/test-build-2309/spack/var/spack/environments/test/.spack-env/view/lib/python3.8/site-packages/pynestml/frontend/pynestml_frontend.py:198\u001b[0m, in \u001b[0;36mgenerate_target\u001b[0;34m(input_path, target_platform, target_path, install_path, logging_level, module_name, store_log, suffix, dev, codegen_opts)\u001b[0m\n\u001b[1;32m    195\u001b[0m \u001b[38;5;28;01mif\u001b[39;00m codegen_opts:\n\u001b[1;32m    196\u001b[0m     FrontendConfiguration\u001b[38;5;241m.\u001b[39mset_codegen_opts(codegen_opts)\n\u001b[0;32m--> 198\u001b[0m \u001b[38;5;28;01mif\u001b[39;00m \u001b[38;5;129;01mnot\u001b[39;00m \u001b[43mprocess\u001b[49m\u001b[43m(\u001b[49m\u001b[43m)\u001b[49m \u001b[38;5;241m==\u001b[39m \u001b[38;5;241m0\u001b[39m:\n\u001b[1;32m    199\u001b[0m     \u001b[38;5;28;01mraise\u001b[39;00m \u001b[38;5;167;01mException\u001b[39;00m(\u001b[38;5;124m\"\u001b[39m\u001b[38;5;124mError(s) occurred while processing the model\u001b[39m\u001b[38;5;124m\"\u001b[39m)\n",
      "File \u001b[0;32m/srv/test-build-2309/spack/var/spack/environments/test/.spack-env/view/lib/python3.8/site-packages/pynestml/frontend/pynestml_frontend.py:347\u001b[0m, in \u001b[0;36mprocess\u001b[0;34m()\u001b[0m\n\u001b[1;32m    344\u001b[0m         models \u001b[38;5;241m=\u001b[39m transformer\u001b[38;5;241m.\u001b[39mtransform(models)\n\u001b[1;32m    346\u001b[0m     \u001b[38;5;66;03m# perform code generation\u001b[39;00m\n\u001b[0;32m--> 347\u001b[0m     \u001b[43m_codeGenerator\u001b[49m\u001b[38;5;241;43m.\u001b[39;49m\u001b[43mgenerate_code\u001b[49m\u001b[43m(\u001b[49m\u001b[43mmodels\u001b[49m\u001b[43m)\u001b[49m\n\u001b[1;32m    349\u001b[0m \u001b[38;5;66;03m# perform build\u001b[39;00m\n\u001b[1;32m    350\u001b[0m \u001b[38;5;28;01mif\u001b[39;00m _builder \u001b[38;5;129;01mis\u001b[39;00m \u001b[38;5;129;01mnot\u001b[39;00m \u001b[38;5;28;01mNone\u001b[39;00m:\n",
      "File \u001b[0;32m/srv/test-build-2309/spack/var/spack/environments/test/.spack-env/view/lib/python3.8/site-packages/pynestml/codegeneration/nest_code_generator.py:221\u001b[0m, in \u001b[0;36mNESTCodeGenerator.generate_code\u001b[0;34m(self, models)\u001b[0m\n\u001b[1;32m    219\u001b[0m synapses \u001b[38;5;241m=\u001b[39m [model \u001b[38;5;28;01mfor\u001b[39;00m model \u001b[38;5;129;01min\u001b[39;00m models \u001b[38;5;28;01mif\u001b[39;00m \u001b[38;5;28misinstance\u001b[39m(model, ASTSynapse)]\n\u001b[1;32m    220\u001b[0m \u001b[38;5;28mself\u001b[39m\u001b[38;5;241m.\u001b[39mrun_nest_target_specific_cocos(neurons, synapses)\n\u001b[0;32m--> 221\u001b[0m \u001b[38;5;28;43mself\u001b[39;49m\u001b[38;5;241;43m.\u001b[39;49m\u001b[43manalyse_transform_neurons\u001b[49m\u001b[43m(\u001b[49m\u001b[43mneurons\u001b[49m\u001b[43m)\u001b[49m\n\u001b[1;32m    222\u001b[0m \u001b[38;5;28mself\u001b[39m\u001b[38;5;241m.\u001b[39manalyse_transform_synapses(synapses)\n\u001b[1;32m    223\u001b[0m \u001b[38;5;28mself\u001b[39m\u001b[38;5;241m.\u001b[39mgenerate_neurons(neurons)\n",
      "File \u001b[0;32m/srv/test-build-2309/spack/var/spack/environments/test/.spack-env/view/lib/python3.8/site-packages/pynestml/codegeneration/nest_code_generator.py:251\u001b[0m, in \u001b[0;36mNESTCodeGenerator.analyse_transform_neurons\u001b[0;34m(self, neurons)\u001b[0m\n\u001b[1;32m    249\u001b[0m code, message \u001b[38;5;241m=\u001b[39m Messages\u001b[38;5;241m.\u001b[39mget_analysing_transforming_neuron(neuron\u001b[38;5;241m.\u001b[39mget_name())\n\u001b[1;32m    250\u001b[0m Logger\u001b[38;5;241m.\u001b[39mlog_message(\u001b[38;5;28;01mNone\u001b[39;00m, code, message, \u001b[38;5;28;01mNone\u001b[39;00m, LoggingLevel\u001b[38;5;241m.\u001b[39mINFO)\n\u001b[0;32m--> 251\u001b[0m spike_updates, post_spike_updates, equations_with_delay_vars, equations_with_vector_vars \u001b[38;5;241m=\u001b[39m \u001b[38;5;28;43mself\u001b[39;49m\u001b[38;5;241;43m.\u001b[39;49m\u001b[43manalyse_neuron\u001b[49m\u001b[43m(\u001b[49m\u001b[43mneuron\u001b[49m\u001b[43m)\u001b[49m\n\u001b[1;32m    252\u001b[0m neuron\u001b[38;5;241m.\u001b[39mspike_updates \u001b[38;5;241m=\u001b[39m spike_updates\n\u001b[1;32m    253\u001b[0m neuron\u001b[38;5;241m.\u001b[39mpost_spike_updates \u001b[38;5;241m=\u001b[39m post_spike_updates\n",
      "File \u001b[0;32m/srv/test-build-2309/spack/var/spack/environments/test/.spack-env/view/lib/python3.8/site-packages/pynestml/codegeneration/nest_code_generator.py:308\u001b[0m, in \u001b[0;36mNESTCodeGenerator.analyse_neuron\u001b[0;34m(self, neuron)\u001b[0m\n\u001b[1;32m    305\u001b[0m neuron\u001b[38;5;241m.\u001b[39maccept(eqns_with_vector_vars_visitor)\n\u001b[1;32m    306\u001b[0m equations_with_vector_vars \u001b[38;5;241m=\u001b[39m eqns_with_vector_vars_visitor\u001b[38;5;241m.\u001b[39mequations\n\u001b[0;32m--> 308\u001b[0m analytic_solver, numeric_solver \u001b[38;5;241m=\u001b[39m \u001b[38;5;28;43mself\u001b[39;49m\u001b[38;5;241;43m.\u001b[39;49m\u001b[43mode_toolbox_analysis\u001b[49m\u001b[43m(\u001b[49m\u001b[43mneuron\u001b[49m\u001b[43m,\u001b[49m\u001b[43m \u001b[49m\u001b[43mkernel_buffers\u001b[49m\u001b[43m)\u001b[49m\n\u001b[1;32m    309\u001b[0m \u001b[38;5;28mself\u001b[39m\u001b[38;5;241m.\u001b[39manalytic_solver[neuron\u001b[38;5;241m.\u001b[39mget_name()] \u001b[38;5;241m=\u001b[39m analytic_solver\n\u001b[1;32m    310\u001b[0m \u001b[38;5;28mself\u001b[39m\u001b[38;5;241m.\u001b[39mnumeric_solver[neuron\u001b[38;5;241m.\u001b[39mget_name()] \u001b[38;5;241m=\u001b[39m numeric_solver\n",
      "File \u001b[0;32m/srv/test-build-2309/spack/var/spack/environments/test/.spack-env/view/lib/python3.8/site-packages/pynestml/codegeneration/nest_code_generator.py:764\u001b[0m, in \u001b[0;36mNESTCodeGenerator.ode_toolbox_analysis\u001b[0;34m(self, neuron, kernel_buffers)\u001b[0m\n\u001b[1;32m    762\u001b[0m odetoolbox_indict[\u001b[38;5;124m\"\u001b[39m\u001b[38;5;124moptions\u001b[39m\u001b[38;5;124m\"\u001b[39m][\u001b[38;5;124m\"\u001b[39m\u001b[38;5;124moutput_timestep_symbol\u001b[39m\u001b[38;5;124m\"\u001b[39m] \u001b[38;5;241m=\u001b[39m \u001b[38;5;124m\"\u001b[39m\u001b[38;5;124m__h\u001b[39m\u001b[38;5;124m\"\u001b[39m\n\u001b[1;32m    763\u001b[0m disable_analytic_solver \u001b[38;5;241m=\u001b[39m \u001b[38;5;28mself\u001b[39m\u001b[38;5;241m.\u001b[39mget_option(\u001b[38;5;124m\"\u001b[39m\u001b[38;5;124msolver\u001b[39m\u001b[38;5;124m\"\u001b[39m) \u001b[38;5;241m!=\u001b[39m \u001b[38;5;124m\"\u001b[39m\u001b[38;5;124manalytic\u001b[39m\u001b[38;5;124m\"\u001b[39m\n\u001b[0;32m--> 764\u001b[0m solver_result \u001b[38;5;241m=\u001b[39m \u001b[43modetoolbox\u001b[49m\u001b[38;5;241;43m.\u001b[39;49m\u001b[43manalysis\u001b[49m\u001b[43m(\u001b[49m\u001b[43modetoolbox_indict\u001b[49m\u001b[43m,\u001b[49m\n\u001b[1;32m    765\u001b[0m \u001b[43m                                    \u001b[49m\u001b[43mdisable_stiffness_check\u001b[49m\u001b[38;5;241;43m=\u001b[39;49m\u001b[38;5;28;43;01mTrue\u001b[39;49;00m\u001b[43m,\u001b[49m\n\u001b[1;32m    766\u001b[0m \u001b[43m                                    \u001b[49m\u001b[43mdisable_analytic_solver\u001b[49m\u001b[38;5;241;43m=\u001b[39;49m\u001b[43mdisable_analytic_solver\u001b[49m\u001b[43m,\u001b[49m\n\u001b[1;32m    767\u001b[0m \u001b[43m                                    \u001b[49m\u001b[43mpreserve_expressions\u001b[49m\u001b[38;5;241;43m=\u001b[39;49m\u001b[38;5;28;43mself\u001b[39;49m\u001b[38;5;241;43m.\u001b[39;49m\u001b[43mget_option\u001b[49m\u001b[43m(\u001b[49m\u001b[38;5;124;43m\"\u001b[39;49m\u001b[38;5;124;43mpreserve_expressions\u001b[39;49m\u001b[38;5;124;43m\"\u001b[39;49m\u001b[43m)\u001b[49m\u001b[43m,\u001b[49m\n\u001b[1;32m    768\u001b[0m \u001b[43m                                    \u001b[49m\u001b[43msimplify_expression\u001b[49m\u001b[38;5;241;43m=\u001b[39;49m\u001b[38;5;28;43mself\u001b[39;49m\u001b[38;5;241;43m.\u001b[39;49m\u001b[43mget_option\u001b[49m\u001b[43m(\u001b[49m\u001b[38;5;124;43m\"\u001b[39;49m\u001b[38;5;124;43msimplify_expression\u001b[39;49m\u001b[38;5;124;43m\"\u001b[39;49m\u001b[43m)\u001b[49m\u001b[43m,\u001b[49m\n\u001b[1;32m    769\u001b[0m \u001b[43m                                    \u001b[49m\u001b[43mlog_level\u001b[49m\u001b[38;5;241;43m=\u001b[39;49m\u001b[43mFrontendConfiguration\u001b[49m\u001b[38;5;241;43m.\u001b[39;49m\u001b[43mlogging_level\u001b[49m\u001b[43m)\u001b[49m\n\u001b[1;32m    770\u001b[0m analytic_solver \u001b[38;5;241m=\u001b[39m \u001b[38;5;28;01mNone\u001b[39;00m\n\u001b[1;32m    771\u001b[0m analytic_solvers \u001b[38;5;241m=\u001b[39m [x \u001b[38;5;28;01mfor\u001b[39;00m x \u001b[38;5;129;01min\u001b[39;00m solver_result \u001b[38;5;28;01mif\u001b[39;00m x[\u001b[38;5;124m\"\u001b[39m\u001b[38;5;124msolver\u001b[39m\u001b[38;5;124m\"\u001b[39m] \u001b[38;5;241m==\u001b[39m \u001b[38;5;124m\"\u001b[39m\u001b[38;5;124manalytical\u001b[39m\u001b[38;5;124m\"\u001b[39m]\n",
      "File \u001b[0;32m/srv/test-build-2309/spack/var/spack/environments/test/.spack-env/view/lib/python3.8/site-packages/odetoolbox/__init__.py:387\u001b[0m, in \u001b[0;36manalysis\u001b[0;34m(indict, disable_stiffness_check, disable_analytic_solver, preserve_expressions, simplify_expression, log_level)\u001b[0m\n\u001b[1;32m    374\u001b[0m \u001b[38;5;28;01mdef\u001b[39;00m \u001b[38;5;21manalysis\u001b[39m(indict, disable_stiffness_check: \u001b[38;5;28mbool\u001b[39m \u001b[38;5;241m=\u001b[39m \u001b[38;5;28;01mFalse\u001b[39;00m, disable_analytic_solver: \u001b[38;5;28mbool\u001b[39m \u001b[38;5;241m=\u001b[39m \u001b[38;5;28;01mFalse\u001b[39;00m, preserve_expressions: Union[\u001b[38;5;28mbool\u001b[39m, Iterable[\u001b[38;5;28mstr\u001b[39m]] \u001b[38;5;241m=\u001b[39m \u001b[38;5;28;01mFalse\u001b[39;00m, simplify_expression: \u001b[38;5;28mstr\u001b[39m \u001b[38;5;241m=\u001b[39m \u001b[38;5;124m\"\u001b[39m\u001b[38;5;124msympy.simplify(expr)\u001b[39m\u001b[38;5;124m\"\u001b[39m, log_level: Union[\u001b[38;5;28mstr\u001b[39m, \u001b[38;5;28mint\u001b[39m] \u001b[38;5;241m=\u001b[39m logging\u001b[38;5;241m.\u001b[39mWARNING) \u001b[38;5;241m-\u001b[39m\u001b[38;5;241m>\u001b[39m List[Dict]:\n\u001b[1;32m    375\u001b[0m     \u001b[38;5;124mr\u001b[39m\u001b[38;5;124;03m\"\"\"\u001b[39;00m\n\u001b[1;32m    376\u001b[0m \u001b[38;5;124;03m    The main entry point of the ODE-toolbox API.\u001b[39;00m\n\u001b[1;32m    377\u001b[0m \n\u001b[0;32m   (...)\u001b[0m\n\u001b[1;32m    385\u001b[0m \u001b[38;5;124;03m    :return: The result of the analysis. For details, see https://ode-toolbox.readthedocs.io/en/latest/index.html#output\u001b[39;00m\n\u001b[1;32m    386\u001b[0m \u001b[38;5;124;03m    \"\"\"\u001b[39;00m\n\u001b[0;32m--> 387\u001b[0m     d, _, _ \u001b[38;5;241m=\u001b[39m \u001b[43m_analysis\u001b[49m\u001b[43m(\u001b[49m\u001b[43mindict\u001b[49m\u001b[43m,\u001b[49m\n\u001b[1;32m    388\u001b[0m \u001b[43m                        \u001b[49m\u001b[43mdisable_stiffness_check\u001b[49m\u001b[38;5;241;43m=\u001b[39;49m\u001b[43mdisable_stiffness_check\u001b[49m\u001b[43m,\u001b[49m\n\u001b[1;32m    389\u001b[0m \u001b[43m                        \u001b[49m\u001b[43mdisable_analytic_solver\u001b[49m\u001b[38;5;241;43m=\u001b[39;49m\u001b[43mdisable_analytic_solver\u001b[49m\u001b[43m,\u001b[49m\n\u001b[1;32m    390\u001b[0m \u001b[43m                        \u001b[49m\u001b[43mpreserve_expressions\u001b[49m\u001b[38;5;241;43m=\u001b[39;49m\u001b[43mpreserve_expressions\u001b[49m\u001b[43m,\u001b[49m\n\u001b[1;32m    391\u001b[0m \u001b[43m                        \u001b[49m\u001b[43msimplify_expression\u001b[49m\u001b[38;5;241;43m=\u001b[39;49m\u001b[43msimplify_expression\u001b[49m\u001b[43m,\u001b[49m\n\u001b[1;32m    392\u001b[0m \u001b[43m                        \u001b[49m\u001b[43mlog_level\u001b[49m\u001b[38;5;241;43m=\u001b[39;49m\u001b[43mlog_level\u001b[49m\u001b[43m)\u001b[49m\n\u001b[1;32m    393\u001b[0m     \u001b[38;5;28;01mreturn\u001b[39;00m d\n",
      "File \u001b[0;32m/srv/test-build-2309/spack/var/spack/environments/test/.spack-env/view/lib/python3.8/site-packages/odetoolbox/__init__.py:218\u001b[0m, in \u001b[0;36m_analysis\u001b[0;34m(indict, disable_stiffness_check, disable_analytic_solver, preserve_expressions, simplify_expression, log_level)\u001b[0m\n\u001b[1;32m    215\u001b[0m         sys\u001b[38;5;241m.\u001b[39mexit(\u001b[38;5;241m1\u001b[39m)\n\u001b[1;32m    217\u001b[0m shape_sys \u001b[38;5;241m=\u001b[39m SystemOfShapes\u001b[38;5;241m.\u001b[39mfrom_shapes(shapes, parameters\u001b[38;5;241m=\u001b[39mparameters)\n\u001b[0;32m--> 218\u001b[0m dependency_edges, node_is_lin \u001b[38;5;241m=\u001b[39m \u001b[43m_dependency_analysis\u001b[49m\u001b[43m(\u001b[49m\u001b[43mshape_sys\u001b[49m\u001b[43m,\u001b[49m\u001b[43m \u001b[49m\u001b[43mshapes\u001b[49m\u001b[43m,\u001b[49m\u001b[43m \u001b[49m\u001b[43mdifferential_order_symbol\u001b[49m\u001b[38;5;241;43m=\u001b[39;49m\u001b[43moptions_dict\u001b[49m\u001b[43m[\u001b[49m\u001b[38;5;124;43m\"\u001b[39;49m\u001b[38;5;124;43mdifferential_order_symbol\u001b[39;49m\u001b[38;5;124;43m\"\u001b[39;49m\u001b[43m]\u001b[49m\u001b[43m,\u001b[49m\u001b[43m \u001b[49m\u001b[43mparameters\u001b[49m\u001b[38;5;241;43m=\u001b[39;49m\u001b[43mparameters\u001b[49m\u001b[43m)\u001b[49m\n\u001b[1;32m    221\u001b[0m \u001b[38;5;66;03m#\u001b[39;00m\n\u001b[1;32m    222\u001b[0m \u001b[38;5;66;03m#   generate analytical solutions (propagators) where possible\u001b[39;00m\n\u001b[1;32m    223\u001b[0m \u001b[38;5;66;03m#\u001b[39;00m\n\u001b[1;32m    225\u001b[0m solvers_json \u001b[38;5;241m=\u001b[39m []\n",
      "File \u001b[0;32m/srv/test-build-2309/spack/var/spack/environments/test/.spack-env/view/lib/python3.8/site-packages/odetoolbox/__init__.py:77\u001b[0m, in \u001b[0;36m_dependency_analysis\u001b[0;34m(shape_sys, shapes, differential_order_symbol, parameters)\u001b[0m\n\u001b[1;32m     75\u001b[0m node_is_lin \u001b[38;5;241m=\u001b[39m shape_sys\u001b[38;5;241m.\u001b[39mget_lin_cc_symbols(dependency_edges, differential_order_symbol\u001b[38;5;241m=\u001b[39mdifferential_order_symbol, parameters\u001b[38;5;241m=\u001b[39mparameters)\n\u001b[1;32m     76\u001b[0m \u001b[38;5;28;01mif\u001b[39;00m PLOT_DEPENDENCY_GRAPH:\n\u001b[0;32m---> 77\u001b[0m     \u001b[43mDependencyGraphPlotter\u001b[49m\u001b[38;5;241;43m.\u001b[39;49m\u001b[43mplot_graph\u001b[49m\u001b[43m(\u001b[49m\u001b[43mshapes\u001b[49m\u001b[43m,\u001b[49m\u001b[43m \u001b[49m\u001b[43mdependency_edges\u001b[49m\u001b[43m,\u001b[49m\u001b[43m \u001b[49m\u001b[43mnode_is_lin\u001b[49m\u001b[43m,\u001b[49m\u001b[43m \u001b[49m\u001b[43mfn\u001b[49m\u001b[38;5;241;43m=\u001b[39;49m\u001b[38;5;124;43m\"\u001b[39;49m\u001b[38;5;124;43m/tmp/ode_dependency_graph_before.dot\u001b[39;49m\u001b[38;5;124;43m\"\u001b[39;49m\u001b[43m)\u001b[49m\n\u001b[1;32m     78\u001b[0m node_is_lin \u001b[38;5;241m=\u001b[39m shape_sys\u001b[38;5;241m.\u001b[39mpropagate_lin_cc_judgements(node_is_lin, dependency_edges)\n\u001b[1;32m     79\u001b[0m \u001b[38;5;28;01mif\u001b[39;00m PLOT_DEPENDENCY_GRAPH:\n",
      "File \u001b[0;32m/srv/test-build-2309/spack/var/spack/environments/test/.spack-env/view/lib/python3.8/site-packages/odetoolbox/dependency_graph_plotter.py:76\u001b[0m, in \u001b[0;36mDependencyGraphPlotter.plot_graph\u001b[0;34m(cls, shapes, dependency_edges, node_is_lin, fn)\u001b[0m\n\u001b[1;32m     74\u001b[0m \u001b[38;5;28;01mif\u001b[39;00m \u001b[38;5;129;01mnot\u001b[39;00m fn \u001b[38;5;129;01mis\u001b[39;00m \u001b[38;5;28;01mNone\u001b[39;00m:\n\u001b[1;32m     75\u001b[0m     logging\u001b[38;5;241m.\u001b[39minfo(\u001b[38;5;124m\"\u001b[39m\u001b[38;5;124mSaving dependency graph plot to \u001b[39m\u001b[38;5;124m\"\u001b[39m \u001b[38;5;241m+\u001b[39m fn)\n\u001b[0;32m---> 76\u001b[0m     \u001b[43mdot\u001b[49m\u001b[38;5;241;43m.\u001b[39;49m\u001b[43mrender\u001b[49m\u001b[43m(\u001b[49m\u001b[43mfn\u001b[49m\u001b[43m)\u001b[49m\n",
      "File \u001b[0;32m/srv/test-build-2309/spack/var/spack/environments/test/.spack-env/view/lib/python3.8/site-packages/graphviz/files.py:207\u001b[0m, in \u001b[0;36mFile.render\u001b[0;34m(self, filename, directory, view, cleanup, format, renderer, formatter, quiet, quiet_view)\u001b[0m\n\u001b[1;32m    204\u001b[0m \u001b[38;5;28;01mif\u001b[39;00m \u001b[38;5;28mformat\u001b[39m \u001b[38;5;129;01mis\u001b[39;00m \u001b[38;5;28;01mNone\u001b[39;00m:\n\u001b[1;32m    205\u001b[0m     \u001b[38;5;28mformat\u001b[39m \u001b[38;5;241m=\u001b[39m \u001b[38;5;28mself\u001b[39m\u001b[38;5;241m.\u001b[39m_format\n\u001b[0;32m--> 207\u001b[0m rendered \u001b[38;5;241m=\u001b[39m \u001b[43mbackend\u001b[49m\u001b[38;5;241;43m.\u001b[39;49m\u001b[43mrender\u001b[49m\u001b[43m(\u001b[49m\u001b[38;5;28;43mself\u001b[39;49m\u001b[38;5;241;43m.\u001b[39;49m\u001b[43m_engine\u001b[49m\u001b[43m,\u001b[49m\u001b[43m \u001b[49m\u001b[38;5;28;43mformat\u001b[39;49m\u001b[43m,\u001b[49m\u001b[43m \u001b[49m\u001b[43mfilepath\u001b[49m\u001b[43m,\u001b[49m\n\u001b[1;32m    208\u001b[0m \u001b[43m                          \u001b[49m\u001b[43mrenderer\u001b[49m\u001b[38;5;241;43m=\u001b[39;49m\u001b[43mrenderer\u001b[49m\u001b[43m,\u001b[49m\u001b[43m \u001b[49m\u001b[43mformatter\u001b[49m\u001b[38;5;241;43m=\u001b[39;49m\u001b[43mformatter\u001b[49m\u001b[43m,\u001b[49m\n\u001b[1;32m    209\u001b[0m \u001b[43m                          \u001b[49m\u001b[43mquiet\u001b[49m\u001b[38;5;241;43m=\u001b[39;49m\u001b[43mquiet\u001b[49m\u001b[43m)\u001b[49m\n\u001b[1;32m    211\u001b[0m \u001b[38;5;28;01mif\u001b[39;00m cleanup:\n\u001b[1;32m    212\u001b[0m     log\u001b[38;5;241m.\u001b[39mdebug(\u001b[38;5;124m'\u001b[39m\u001b[38;5;124mdelete \u001b[39m\u001b[38;5;132;01m%r\u001b[39;00m\u001b[38;5;124m'\u001b[39m, filepath)\n",
      "File \u001b[0;32m/srv/test-build-2309/spack/var/spack/environments/test/.spack-env/view/lib/python3.8/site-packages/graphviz/backend.py:206\u001b[0m, in \u001b[0;36mrender\u001b[0;34m(engine, format, filepath, renderer, formatter, quiet)\u001b[0m\n\u001b[1;32m    204\u001b[0m \u001b[38;5;28;01melse\u001b[39;00m:\n\u001b[1;32m    205\u001b[0m     cwd \u001b[38;5;241m=\u001b[39m \u001b[38;5;28;01mNone\u001b[39;00m\n\u001b[0;32m--> 206\u001b[0m \u001b[43mrun\u001b[49m\u001b[43m(\u001b[49m\u001b[43mcmd\u001b[49m\u001b[43m,\u001b[49m\u001b[43m \u001b[49m\u001b[43mcapture_output\u001b[49m\u001b[38;5;241;43m=\u001b[39;49m\u001b[38;5;28;43;01mTrue\u001b[39;49;00m\u001b[43m,\u001b[49m\u001b[43m \u001b[49m\u001b[43mcwd\u001b[49m\u001b[38;5;241;43m=\u001b[39;49m\u001b[43mcwd\u001b[49m\u001b[43m,\u001b[49m\u001b[43m \u001b[49m\u001b[43mcheck\u001b[49m\u001b[38;5;241;43m=\u001b[39;49m\u001b[38;5;28;43;01mTrue\u001b[39;49;00m\u001b[43m,\u001b[49m\u001b[43m \u001b[49m\u001b[43mquiet\u001b[49m\u001b[38;5;241;43m=\u001b[39;49m\u001b[43mquiet\u001b[49m\u001b[43m)\u001b[49m\n\u001b[1;32m    207\u001b[0m \u001b[38;5;28;01mreturn\u001b[39;00m rendered\n",
      "File \u001b[0;32m/srv/test-build-2309/spack/var/spack/environments/test/.spack-env/view/lib/python3.8/site-packages/graphviz/backend.py:162\u001b[0m, in \u001b[0;36mrun\u001b[0;34m(cmd, input, capture_output, check, quiet, **kwargs)\u001b[0m\n\u001b[1;32m    160\u001b[0m \u001b[38;5;28;01mexcept\u001b[39;00m \u001b[38;5;167;01mOSError\u001b[39;00m \u001b[38;5;28;01mas\u001b[39;00m e:\n\u001b[1;32m    161\u001b[0m     \u001b[38;5;28;01mif\u001b[39;00m e\u001b[38;5;241m.\u001b[39merrno \u001b[38;5;241m==\u001b[39m errno\u001b[38;5;241m.\u001b[39mENOENT:\n\u001b[0;32m--> 162\u001b[0m         \u001b[38;5;28;01mraise\u001b[39;00m ExecutableNotFound(cmd)\n\u001b[1;32m    163\u001b[0m     \u001b[38;5;28;01melse\u001b[39;00m:\n\u001b[1;32m    164\u001b[0m         \u001b[38;5;28;01mraise\u001b[39;00m\n",
      "\u001b[0;31mExecutableNotFound\u001b[0m: failed to execute ['dot', '-Tpdf', '-O', 'ode_dependency_graph_before.dot'], make sure the Graphviz executables are on your systems' PATH"
     ]
    }
   ],
   "source": [
    "# plot results\n",
    "plt.figure(1)\n",
    "plt.clf()\n",
    "plt.plot(times,voltage,'k-',lw=2)\n",
    "plt.xlabel('time (ms)')\n",
    "plt.ylabel('membrane potential (mV)')\n",
    "plt.savefig('./figures/hello_world_nestml.pdf')"
   ]
  },
  {
   "cell_type": "code",
   "execution_count": null,
   "id": "50c8fe40-df59-4c81-9ae5-655fc794a1b7",
   "metadata": {},
   "outputs": [],
   "source": []
  }
 ],
 "metadata": {
  "kernelspec": {
   "display_name": "EBRAINS-test",
   "language": "python",
   "name": "ebrains-test"
  },
  "language_info": {
   "codemirror_mode": {
    "name": "ipython",
    "version": 3
   },
   "file_extension": ".py",
   "mimetype": "text/x-python",
   "name": "python",
   "nbconvert_exporter": "python",
   "pygments_lexer": "ipython3",
   "version": "3.8.11"
  }
 },
 "nbformat": 4,
 "nbformat_minor": 5
}

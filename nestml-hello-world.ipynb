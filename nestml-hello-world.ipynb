{
 "cells": [
  {
   "cell_type": "code",
   "execution_count": 1,
   "id": "7051dbf8-9ea1-45e6-b051-48adfa99565c",
   "metadata": {},
   "outputs": [
    {
     "name": "stdout",
     "output_type": "stream",
     "text": [
      "Collecting sympy<=1.4\n",
      "  Using cached sympy-1.4-py2.py3-none-any.whl (5.3 MB)\n",
      "Requirement already satisfied: mpmath>=0.19 in /srv/test-build-2309/spack/var/spack/environments/test/.spack-env/._view/m32u3wkw5voei36m6benp3ulb6ygrdav/lib/python3.8/site-packages (from sympy<=1.4) (1.2.1)\n",
      "Installing collected packages: sympy\n",
      "Successfully installed sympy-1.4\n"
     ]
    }
   ],
   "source": [
    "!pip install \"sympy<=1.4\""
   ]
  },
  {
   "cell_type": "code",
   "execution_count": 2,
   "id": "61b7d09d-1f6f-4e7e-9e3e-624aa5f6cdd3",
   "metadata": {},
   "outputs": [],
   "source": [
    "import sys\n",
    "sys.path.insert(0, '/opt/app-root/src/.local/lib/python3.8/site-packages/')"
   ]
  },
  {
   "cell_type": "code",
   "execution_count": 3,
   "id": "d9de2354-2bcf-459c-98cc-7ac1c8dbeeea",
   "metadata": {},
   "outputs": [],
   "source": [
    "import sympy"
   ]
  },
  {
   "cell_type": "code",
   "execution_count": 4,
   "id": "f0bf05e2-f059-4691-9e93-1e43c2a1ad7b",
   "metadata": {},
   "outputs": [
    {
     "data": {
      "text/plain": [
       "'1.4'"
      ]
     },
     "execution_count": 4,
     "metadata": {},
     "output_type": "execute_result"
    }
   ],
   "source": [
    "sympy.__version__"
   ]
  },
  {
   "cell_type": "code",
   "execution_count": 5,
   "id": "539eec19-e1d7-4edf-ab88-1654c1441ddd",
   "metadata": {},
   "outputs": [
    {
     "data": {
      "text/plain": [
       "'/opt/app-root/src/.local/lib/python3.8/site-packages/sympy/__init__.py'"
      ]
     },
     "execution_count": 5,
     "metadata": {},
     "output_type": "execute_result"
    }
   ],
   "source": [
    "sympy.__file__"
   ]
  },
  {
   "cell_type": "code",
   "execution_count": 6,
   "id": "29c64c53-8a8a-46d4-bf6e-c2d090769ffd",
   "metadata": {},
   "outputs": [
    {
     "name": "stdout",
     "output_type": "stream",
     "text": [
      "\n",
      "              -- N E S T --\n",
      "  Copyright (C) 2004 The NEST Initiative\n",
      "\n",
      " Version: 3.6.0\n",
      " Built: Sep 28 2023 14:13:37\n",
      "\n",
      " This program is provided AS IS and comes with\n",
      " NO WARRANTY. See the file LICENSE for details.\n",
      "\n",
      " Problems or suggestions?\n",
      "   Visit https://www.nest-simulator.org\n",
      "\n",
      " Type 'nest.help()' to find out more about NEST.\n",
      "\n"
     ]
    },
    {
     "name": "stderr",
     "output_type": "stream",
     "text": [
      "WARNING:root:PyGSL is not available. The stiffness test will be skipped.\n",
      "WARNING:root:Error when importing: No module named 'pygsl'\n"
     ]
    }
   ],
   "source": [
    "import nest                                                          # import NEST module\n",
    "import matplotlib.pyplot as plt                                      # for plotting\n",
    "from pynestml.frontend.pynestml_frontend import generate_nest_target # NESTML"
   ]
  },
  {
   "cell_type": "code",
   "execution_count": 7,
   "id": "e8d70529-3130-4b32-b495-18c2c888bd92",
   "metadata": {},
   "outputs": [
    {
     "name": "stdout",
     "output_type": "stream",
     "text": [
      "\n",
      "              -- N E S T --\n",
      "  Copyright (C) 2004 The NEST Initiative\n",
      "\n",
      " Version: 3.6.0\n",
      " Built: Sep 28 2023 14:13:37\n",
      "\n",
      " This program is provided AS IS and comes with\n",
      " NO WARRANTY. See the file LICENSE for details.\n",
      "\n",
      " Problems or suggestions?\n",
      "   Visit https://www.nest-simulator.org\n",
      "\n",
      " Type 'nest.help()' to find out more about NEST.\n",
      "\n",
      "\u001b[33mCMake Warning:\n",
      "  Ignoring empty string (\"\") provided on the command line.\n",
      "\n",
      "\u001b[0m\n",
      "\u001b[33mCMake Warning (dev) at CMakeLists.txt:93 (project):\n",
      "  cmake_minimum_required() should be called prior to this top-level project()\n",
      "  call.  Please see the cmake-commands(7) manual for usage documentation of\n",
      "  both commands.\n",
      "This warning is for project developers.  Use -Wno-dev to suppress it.\n",
      "\u001b[0m\n",
      "-- The CXX compiler identification is unknown\n",
      "-- Detecting CXX compiler ABI info\n",
      "-- Detecting CXX compiler ABI info - failed\n",
      "-- Check for working CXX compiler: /srv/test-build-2309/spack/lib/spack/env/gcc/g++\n",
      "-- Check for working CXX compiler: /srv/test-build-2309/spack/lib/spack/env/gcc/g++ - broken\n",
      "\u001b[31mCMake Error at /srv/test-build-2309/spack/opt/spack/linux-ubuntu20.04-x86_64/gcc-10.3.0/cmake-3.26.3-k3lljdwdq4n42spnhrchgafovwjbdsft/share/cmake-3.26/Modules/CMakeTestCXXCompiler.cmake:60 (message):\n",
      "  The C++ compiler\n",
      "\n",
      "    \"/srv/test-build-2309/spack/lib/spack/env/gcc/g++\"\n",
      "\n",
      "  is not able to compile a simple test program.\n",
      "\n",
      "  It fails with the following output:\n",
      "\n",
      "    Change Dir: /opt/app-root/src/nestml-examples/nestml_target/CMakeFiles/CMakeScratch/TryCompile-ypmNUE\n",
      "    \n",
      "    Run Build Command(s):/srv/test-build-2309/spack/opt/spack/linux-ubuntu20.04-x86_64/gcc-10.3.0/cmake-3.26.3-k3lljdwdq4n42spnhrchgafovwjbdsft/bin/cmake -E env VERBOSE=1 /srv/test-build-2309/spack/opt/spack/linux-ubuntu20.04-broadwell/gcc-9.4.0/gmake-4.4.1-socqci5akndsk3iugkukpb6mffgusjyt/bin/gmake -f Makefile cmTC_01d6a/fast && /srv/test-build-2309/spack/opt/spack/linux-ubuntu20.04-broadwell/gcc-9.4.0/gmake-4.4.1-socqci5akndsk3iugkukpb6mffgusjyt/bin/gmake  -f CMakeFiles/cmTC_01d6a.dir/build.make CMakeFiles/cmTC_01d6a.dir/build\n",
      "    gmake[1]: Entering directory '/opt/app-root/src/nestml-examples/nestml_target/CMakeFiles/CMakeScratch/TryCompile-ypmNUE'\n",
      "    Building CXX object CMakeFiles/cmTC_01d6a.dir/testCXXCompiler.cxx.o\n",
      "    /srv/test-build-2309/spack/lib/spack/env/gcc/g++    -o CMakeFiles/cmTC_01d6a.dir/testCXXCompiler.cxx.o -c /opt/app-root/src/nestml-examples/nestml_target/CMakeFiles/CMakeScratch/TryCompile-ypmNUE/testCXXCompiler.cxx\n",
      "    [spack cc] ERROR: Spack compiler must be run from Spack! Input 'SPACK_ENV_PATH' is missing.\n",
      "    gmake[1]: *** [CMakeFiles/cmTC_01d6a.dir/build.make:78: CMakeFiles/cmTC_01d6a.dir/testCXXCompiler.cxx.o] Error 1\n",
      "    gmake[1]: Leaving directory '/opt/app-root/src/nestml-examples/nestml_target/CMakeFiles/CMakeScratch/TryCompile-ypmNUE'\n",
      "    gmake: *** [Makefile:127: cmTC_01d6a/fast] Error 2\n",
      "    \n",
      "    \n",
      "\n",
      "  \n",
      "\n",
      "  CMake will not be able to correctly generate this project.\n",
      "Call Stack (most recent call first):\n",
      "  CMakeLists.txt:93 (project)\n",
      "\n",
      "\u001b[0m\n",
      "\u001b[33mCMake Warning (dev) in CMakeLists.txt:\n",
      "  No cmake_minimum_required command is present.  A line of code such as\n",
      "\n",
      "    cmake_minimum_required(VERSION 3.26)\n",
      "\n",
      "  should be added at the top of the file.  The version specified may be lower\n",
      "  if you wish to support older CMake versions for this project.  For more\n",
      "  information run \"cmake --help-policy CMP0000\".\n",
      "This warning is for project developers.  Use -Wno-dev to suppress it.\n",
      "\u001b[0m\n",
      "-- Configuring incomplete, errors occurred!\n"
     ]
    },
    {
     "ename": "GeneratedCodeBuildException",
     "evalue": "Error occurred during cmake! More detailed error messages can be found in stderr.",
     "output_type": "error",
     "traceback": [
      "\u001b[0;31m---------------------------------------------------------------------------\u001b[0m",
      "\u001b[0;31mCalledProcessError\u001b[0m                        Traceback (most recent call last)",
      "File \u001b[0;32m/srv/test-build-2309/spack/var/spack/environments/test/.spack-env/view/lib/python3.8/site-packages/pynestml/codegeneration/nest_builder.py:173\u001b[0m, in \u001b[0;36mNESTBuilder.build\u001b[0;34m(self)\u001b[0m\n\u001b[1;32m    172\u001b[0m current_stage \u001b[38;5;241m=\u001b[39m \u001b[38;5;124m\"\u001b[39m\u001b[38;5;124mcmake\u001b[39m\u001b[38;5;124m\"\u001b[39m\n\u001b[0;32m--> 173\u001b[0m \u001b[43msubprocess\u001b[49m\u001b[38;5;241;43m.\u001b[39;49m\u001b[43mcheck_call\u001b[49m\u001b[43m(\u001b[49m\u001b[43mcmake_cmd\u001b[49m\u001b[43m,\u001b[49m\u001b[43m \u001b[49m\u001b[43mstderr\u001b[49m\u001b[38;5;241;43m=\u001b[39;49m\u001b[43mstderr\u001b[49m\u001b[43m,\u001b[49m\u001b[43m \u001b[49m\u001b[43mstdout\u001b[49m\u001b[38;5;241;43m=\u001b[39;49m\u001b[43mstdout\u001b[49m\u001b[43m,\u001b[49m\u001b[43m \u001b[49m\u001b[43mshell\u001b[49m\u001b[38;5;241;43m=\u001b[39;49m\u001b[43mshell\u001b[49m\u001b[43m,\u001b[49m\n\u001b[1;32m    174\u001b[0m \u001b[43m                      \u001b[49m\u001b[43mcwd\u001b[49m\u001b[38;5;241;43m=\u001b[39;49m\u001b[38;5;28;43mstr\u001b[39;49m\u001b[43m(\u001b[49m\u001b[43mos\u001b[49m\u001b[38;5;241;43m.\u001b[39;49m\u001b[43mpath\u001b[49m\u001b[38;5;241;43m.\u001b[39;49m\u001b[43mjoin\u001b[49m\u001b[43m(\u001b[49m\u001b[43mtarget_path\u001b[49m\u001b[43m)\u001b[49m\u001b[43m)\u001b[49m\u001b[43m)\u001b[49m\n\u001b[1;32m    175\u001b[0m current_stage \u001b[38;5;241m=\u001b[39m \u001b[38;5;124m\"\u001b[39m\u001b[38;5;124mbuild\u001b[39m\u001b[38;5;124m\"\u001b[39m\n",
      "File \u001b[0;32m/srv/test-build-2309/spack/var/spack/environments/test/.spack-env/._view/m32u3wkw5voei36m6benp3ulb6ygrdav/lib/python3.8/subprocess.py:364\u001b[0m, in \u001b[0;36mcheck_call\u001b[0;34m(*popenargs, **kwargs)\u001b[0m\n\u001b[1;32m    363\u001b[0m         cmd \u001b[38;5;241m=\u001b[39m popenargs[\u001b[38;5;241m0\u001b[39m]\n\u001b[0;32m--> 364\u001b[0m     \u001b[38;5;28;01mraise\u001b[39;00m CalledProcessError(retcode, cmd)\n\u001b[1;32m    365\u001b[0m \u001b[38;5;28;01mreturn\u001b[39;00m \u001b[38;5;241m0\u001b[39m\n",
      "\u001b[0;31mCalledProcessError\u001b[0m: Command '['cmake', '-Dwith-nest=/srv/test-build-2309/spack/opt/spack/linux-ubuntu20.04-x86_64/gcc-10.3.0/nest-3.6-55ofplddeqwn4daw5t5ikuszm33makg6/bin/nest-config', '', '.']' returned non-zero exit status 1.",
      "\nDuring handling of the above exception, another exception occurred:\n",
      "\u001b[0;31mGeneratedCodeBuildException\u001b[0m               Traceback (most recent call last)",
      "Cell \u001b[0;32mIn[7], line 2\u001b[0m\n\u001b[1;32m      1\u001b[0m \u001b[38;5;66;03m# compile nestml model (needs to be done only once)\u001b[39;00m\n\u001b[0;32m----> 2\u001b[0m generate_nest_target(input_path\u001b[38;5;241m=\u001b[39m\u001b[38;5;124m\"\u001b[39m\u001b[38;5;124m./iaf_psc_exp.nestml\u001b[39m\u001b[38;5;124m\"\u001b[39m,\n\u001b[1;32m      3\u001b[0m                      target_path\u001b[38;5;241m=\u001b[39m\u001b[38;5;124m\"\u001b[39m\u001b[38;5;124m./nestml_target\u001b[39m\u001b[38;5;124m\"\u001b[39m,\n\u001b[1;32m      4\u001b[0m                      suffix\u001b[38;5;241m=\u001b[39m\u001b[38;5;124m\"\u001b[39m\u001b[38;5;124m_nestml\u001b[39m\u001b[38;5;124m\"\u001b[39m,                     \n\u001b[1;32m      5\u001b[0m                      logging_level\u001b[38;5;241m=\u001b[39m\u001b[38;5;124m'\u001b[39m\u001b[38;5;124mERROR\u001b[39m\u001b[38;5;124m'\u001b[39m)    \n\u001b[1;32m      7\u001b[0m \u001b[38;5;66;03m# install resulting NESTML module to make models available in NEST\u001b[39;00m\n\u001b[1;32m      8\u001b[0m nest\u001b[38;5;241m.\u001b[39mInstall(\u001b[38;5;124m'\u001b[39m\u001b[38;5;124mnestmlmodule\u001b[39m\u001b[38;5;124m'\u001b[39m)\n",
      "File \u001b[0;32m/srv/test-build-2309/spack/var/spack/environments/test/.spack-env/view/lib/python3.8/site-packages/pynestml/frontend/pynestml_frontend.py:257\u001b[0m, in \u001b[0;36mgenerate_nest_target\u001b[0;34m(input_path, target_path, install_path, logging_level, module_name, store_log, suffix, dev, codegen_opts)\u001b[0m\n\u001b[1;32m    230\u001b[0m \u001b[38;5;28;01mdef\u001b[39;00m \u001b[38;5;21mgenerate_nest_target\u001b[39m(input_path: Union[\u001b[38;5;28mstr\u001b[39m, Sequence[\u001b[38;5;28mstr\u001b[39m]], target_path: Optional[\u001b[38;5;28mstr\u001b[39m] \u001b[38;5;241m=\u001b[39m \u001b[38;5;28;01mNone\u001b[39;00m,\n\u001b[1;32m    231\u001b[0m                          install_path: Optional[\u001b[38;5;28mstr\u001b[39m] \u001b[38;5;241m=\u001b[39m \u001b[38;5;28;01mNone\u001b[39;00m, logging_level\u001b[38;5;241m=\u001b[39m\u001b[38;5;124m\"\u001b[39m\u001b[38;5;124mERROR\u001b[39m\u001b[38;5;124m\"\u001b[39m,\n\u001b[1;32m    232\u001b[0m                          module_name\u001b[38;5;241m=\u001b[39m\u001b[38;5;28;01mNone\u001b[39;00m, store_log: \u001b[38;5;28mbool\u001b[39m \u001b[38;5;241m=\u001b[39m \u001b[38;5;28;01mFalse\u001b[39;00m, suffix: \u001b[38;5;28mstr\u001b[39m \u001b[38;5;241m=\u001b[39m \u001b[38;5;124m\"\u001b[39m\u001b[38;5;124m\"\u001b[39m,\n\u001b[1;32m    233\u001b[0m                          dev: \u001b[38;5;28mbool\u001b[39m \u001b[38;5;241m=\u001b[39m \u001b[38;5;28;01mFalse\u001b[39;00m, codegen_opts: Optional[Mapping[\u001b[38;5;28mstr\u001b[39m, Any]] \u001b[38;5;241m=\u001b[39m \u001b[38;5;28;01mNone\u001b[39;00m):\n\u001b[1;32m    234\u001b[0m     \u001b[38;5;124mr\u001b[39m\u001b[38;5;124;03m\"\"\"Generate and build code for NEST Simulator.\u001b[39;00m\n\u001b[1;32m    235\u001b[0m \n\u001b[1;32m    236\u001b[0m \u001b[38;5;124;03m    Parameters\u001b[39;00m\n\u001b[0;32m   (...)\u001b[0m\n\u001b[1;32m    255\u001b[0m \u001b[38;5;124;03m        A dictionary containing additional options for the target code generator.\u001b[39;00m\n\u001b[1;32m    256\u001b[0m \u001b[38;5;124;03m    \"\"\"\u001b[39;00m\n\u001b[0;32m--> 257\u001b[0m     \u001b[43mgenerate_target\u001b[49m\u001b[43m(\u001b[49m\u001b[43minput_path\u001b[49m\u001b[43m,\u001b[49m\u001b[43m \u001b[49m\u001b[43mtarget_platform\u001b[49m\u001b[38;5;241;43m=\u001b[39;49m\u001b[38;5;124;43m\"\u001b[39;49m\u001b[38;5;124;43mNEST\u001b[39;49m\u001b[38;5;124;43m\"\u001b[39;49m\u001b[43m,\u001b[49m\u001b[43m \u001b[49m\u001b[43mtarget_path\u001b[49m\u001b[38;5;241;43m=\u001b[39;49m\u001b[43mtarget_path\u001b[49m\u001b[43m,\u001b[49m\u001b[43m \u001b[49m\u001b[43mlogging_level\u001b[49m\u001b[38;5;241;43m=\u001b[39;49m\u001b[43mlogging_level\u001b[49m\u001b[43m,\u001b[49m\n\u001b[1;32m    258\u001b[0m \u001b[43m                    \u001b[49m\u001b[43mmodule_name\u001b[49m\u001b[38;5;241;43m=\u001b[39;49m\u001b[43mmodule_name\u001b[49m\u001b[43m,\u001b[49m\u001b[43m \u001b[49m\u001b[43mstore_log\u001b[49m\u001b[38;5;241;43m=\u001b[39;49m\u001b[43mstore_log\u001b[49m\u001b[43m,\u001b[49m\u001b[43m \u001b[49m\u001b[43msuffix\u001b[49m\u001b[38;5;241;43m=\u001b[39;49m\u001b[43msuffix\u001b[49m\u001b[43m,\u001b[49m\u001b[43m \u001b[49m\u001b[43minstall_path\u001b[49m\u001b[38;5;241;43m=\u001b[39;49m\u001b[43minstall_path\u001b[49m\u001b[43m,\u001b[49m\n\u001b[1;32m    259\u001b[0m \u001b[43m                    \u001b[49m\u001b[43mdev\u001b[49m\u001b[38;5;241;43m=\u001b[39;49m\u001b[43mdev\u001b[49m\u001b[43m,\u001b[49m\u001b[43m \u001b[49m\u001b[43mcodegen_opts\u001b[49m\u001b[38;5;241;43m=\u001b[39;49m\u001b[43mcodegen_opts\u001b[49m\u001b[43m)\u001b[49m\n",
      "File \u001b[0;32m/srv/test-build-2309/spack/var/spack/environments/test/.spack-env/view/lib/python3.8/site-packages/pynestml/frontend/pynestml_frontend.py:180\u001b[0m, in \u001b[0;36mgenerate_target\u001b[0;34m(input_path, target_platform, target_path, install_path, logging_level, module_name, store_log, suffix, dev, codegen_opts)\u001b[0m\n\u001b[1;32m    152\u001b[0m \u001b[38;5;124mr\u001b[39m\u001b[38;5;124;03m\"\"\"Generate and build code for the given target platform.\u001b[39;00m\n\u001b[1;32m    153\u001b[0m \n\u001b[1;32m    154\u001b[0m \u001b[38;5;124;03mParameters\u001b[39;00m\n\u001b[0;32m   (...)\u001b[0m\n\u001b[1;32m    175\u001b[0m \u001b[38;5;124;03m    A dictionary containing additional options for the target code generator.\u001b[39;00m\n\u001b[1;32m    176\u001b[0m \u001b[38;5;124;03m\"\"\"\u001b[39;00m\n\u001b[1;32m    178\u001b[0m configure_front_end(input_path, target_platform, target_path, install_path, logging_level,\n\u001b[1;32m    179\u001b[0m                     module_name, store_log, suffix, dev, codegen_opts)\n\u001b[0;32m--> 180\u001b[0m \u001b[38;5;28;01mif\u001b[39;00m \u001b[38;5;129;01mnot\u001b[39;00m \u001b[43mprocess\u001b[49m\u001b[43m(\u001b[49m\u001b[43m)\u001b[49m \u001b[38;5;241m==\u001b[39m \u001b[38;5;241m0\u001b[39m:\n\u001b[1;32m    181\u001b[0m     \u001b[38;5;28;01mraise\u001b[39;00m \u001b[38;5;167;01mException\u001b[39;00m(\u001b[38;5;124m\"\u001b[39m\u001b[38;5;124mError(s) occurred while processing the model\u001b[39m\u001b[38;5;124m\"\u001b[39m)\n",
      "File \u001b[0;32m/srv/test-build-2309/spack/var/spack/environments/test/.spack-env/view/lib/python3.8/site-packages/pynestml/frontend/pynestml_frontend.py:438\u001b[0m, in \u001b[0;36mprocess\u001b[0;34m()\u001b[0m\n\u001b[1;32m    436\u001b[0m     \u001b[38;5;66;03m# perform build\u001b[39;00m\n\u001b[1;32m    437\u001b[0m     \u001b[38;5;28;01mif\u001b[39;00m _builder \u001b[38;5;129;01mis\u001b[39;00m \u001b[38;5;129;01mnot\u001b[39;00m \u001b[38;5;28;01mNone\u001b[39;00m:\n\u001b[0;32m--> 438\u001b[0m         \u001b[43m_builder\u001b[49m\u001b[38;5;241;43m.\u001b[39;49m\u001b[43mbuild\u001b[49m\u001b[43m(\u001b[49m\u001b[43m)\u001b[49m\n\u001b[1;32m    440\u001b[0m \u001b[38;5;28;01mif\u001b[39;00m FrontendConfiguration\u001b[38;5;241m.\u001b[39mstore_log:\n\u001b[1;32m    441\u001b[0m     store_log_to_file()\n",
      "File \u001b[0;32m/srv/test-build-2309/spack/var/spack/environments/test/.spack-env/view/lib/python3.8/site-packages/pynestml/codegeneration/nest_builder.py:183\u001b[0m, in \u001b[0;36mNESTBuilder.build\u001b[0;34m(self)\u001b[0m\n\u001b[1;32m    179\u001b[0m     subprocess\u001b[38;5;241m.\u001b[39mcheck_call(make_install_cmd, stderr\u001b[38;5;241m=\u001b[39mstderr, stdout\u001b[38;5;241m=\u001b[39mstdout, shell\u001b[38;5;241m=\u001b[39mshell,\n\u001b[1;32m    180\u001b[0m                           cwd\u001b[38;5;241m=\u001b[39m\u001b[38;5;28mstr\u001b[39m(os\u001b[38;5;241m.\u001b[39mpath\u001b[38;5;241m.\u001b[39mjoin(target_path)))\n\u001b[1;32m    182\u001b[0m \u001b[38;5;28;01mexcept\u001b[39;00m subprocess\u001b[38;5;241m.\u001b[39mCalledProcessError \u001b[38;5;28;01mas\u001b[39;00m e:\n\u001b[0;32m--> 183\u001b[0m     \u001b[38;5;28;01mraise\u001b[39;00m GeneratedCodeBuildException(stages_exception[current_stage])\n\u001b[1;32m    185\u001b[0m \u001b[38;5;28;01mfinally\u001b[39;00m:\n\u001b[1;32m    186\u001b[0m     \u001b[38;5;28;01mif\u001b[39;00m \u001b[38;5;28mself\u001b[39m\u001b[38;5;241m.\u001b[39m_options[\u001b[38;5;124m\"\u001b[39m\u001b[38;5;124mredirect\u001b[39m\u001b[38;5;124m\"\u001b[39m]:\n",
      "\u001b[0;31mGeneratedCodeBuildException\u001b[0m: Error occurred during cmake! More detailed error messages can be found in stderr."
     ]
    }
   ],
   "source": [
    "# compile nestml model (needs to be done only once)\n",
    "generate_nest_target(input_path=\"./iaf_psc_exp.nestml\",\n",
    "                     target_path=\"./nestml_target\",\n",
    "                     suffix=\"_nestml\",                     \n",
    "                     logging_level='ERROR')    \n",
    "\n",
    "# install resulting NESTML module to make models available in NEST\n",
    "nest.Install('nestmlmodule') "
   ]
  },
  {
   "cell_type": "code",
   "execution_count": null,
   "id": "6f244edf-cefb-46cc-89fd-79978763eea1",
   "metadata": {},
   "outputs": [],
   "source": [
    "nest.ResetKernel() # reset simulation kernel \n",
    "\n",
    "neuron=nest.Create('iaf_psc_exp_nestml') # create LIF neuron with exponential synaptic currents\n",
    "\n",
    "# create a spike generator, and set it up to create two spikes at 10 and 30ms\n",
    "spikegenerator=nest.Create('spike_generator', params={'spike_times': [10.,30.]}) \n",
    "\n",
    "# create multimeter and set it up to record the membrane potential V_m\n",
    "multimeter=nest.Create('multimeter', {'record_from': ['V_m']})\n",
    "\n",
    "# connect spike generator with neuron with synaptic weight 100 pA\n",
    "nest.Connect(spikegenerator, neuron,syn_spec={'weight': 50.0})\n",
    "\n",
    "nest.Connect(multimeter, neuron)  # connect multimeter to the neuron\n",
    "\n",
    "nest.Simulate(100.) # run simulation for 100ms\n",
    "\n",
    "# read out recording time and voltage from voltmeter\n",
    "times=multimeter.get('events')['times']\n",
    "voltage=multimeter.get('events')['V_m']"
   ]
  },
  {
   "cell_type": "code",
   "execution_count": null,
   "id": "208862eb-284d-47fb-904d-fc12e7e144f7",
   "metadata": {},
   "outputs": [],
   "source": [
    "# plot results\n",
    "plt.figure(1)\n",
    "plt.clf()\n",
    "plt.plot(times,voltage,'k-',lw=2)\n",
    "plt.xlabel('time (ms)')\n",
    "plt.ylabel('membrane potential (mV)')\n",
    "plt.savefig('./figures/hello_world_nestml.pdf')"
   ]
  },
  {
   "cell_type": "code",
   "execution_count": null,
   "id": "50c8fe40-df59-4c81-9ae5-655fc794a1b7",
   "metadata": {},
   "outputs": [],
   "source": []
  }
 ],
 "metadata": {
  "kernelspec": {
   "display_name": "EBRAINS-test",
   "language": "python",
   "name": "ebrains-test"
  },
  "language_info": {
   "codemirror_mode": {
    "name": "ipython",
    "version": 3
   },
   "file_extension": ".py",
   "mimetype": "text/x-python",
   "name": "python",
   "nbconvert_exporter": "python",
   "pygments_lexer": "ipython3",
   "version": "3.8.11"
  }
 },
 "nbformat": 4,
 "nbformat_minor": 5
}

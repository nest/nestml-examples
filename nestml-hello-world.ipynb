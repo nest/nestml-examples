{
 "cells": [
  {
   "cell_type": "code",
   "execution_count": 1,
   "id": "c9b53737-9c93-4364-8c49-b77659bd23a7",
   "metadata": {},
   "outputs": [
    {
     "data": {
      "text/plain": [
       "'5.3.0'"
      ]
     },
     "execution_count": 1,
     "metadata": {},
     "output_type": "execute_result"
    }
   ],
   "source": [
    "import pynestml\n",
    "pynestml.__version__"
   ]
  },
  {
   "cell_type": "code",
   "execution_count": null,
   "id": "29a43d13-211e-4d7d-9565-89a3ef645f50",
   "metadata": {},
   "outputs": [],
   "source": []
  }
 ],
 "metadata": {
  "kernelspec": {
   "display_name": "EBRAINS-23.09",
   "language": "python",
   "name": "ebrains-test"
  },
  "language_info": {
   "codemirror_mode": {
    "name": "ipython",
    "version": 3
   },
   "file_extension": ".py",
   "mimetype": "text/x-python",
   "name": "python",
   "nbconvert_exporter": "python",
   "pygments_lexer": "ipython3",
   "version": "3.8.11"
  }
 },
 "nbformat": 4,
 "nbformat_minor": 5
}

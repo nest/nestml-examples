{
 "cells": [
  {
   "cell_type": "code",
   "execution_count": null,
   "id": "7051dbf8-9ea1-45e6-b051-48adfa99565c",
   "metadata": {},
   "outputs": [],
   "source": [
    "#!pip install \"sympy==1.10.1\""
   ]
  },
  {
   "cell_type": "code",
   "execution_count": null,
   "id": "61b7d09d-1f6f-4e7e-9e3e-624aa5f6cdd3",
   "metadata": {},
   "outputs": [],
   "source": [
    "#import sys\n",
    "#sys.path.insert(0, '/opt/app-root/src/.local/lib/python3.8/site-packages/')"
   ]
  },
  {
   "cell_type": "code",
   "execution_count": null,
   "id": "d9de2354-2bcf-459c-98cc-7ac1c8dbeeea",
   "metadata": {},
   "outputs": [],
   "source": [
    "#import sympy"
   ]
  },
  {
   "cell_type": "code",
   "execution_count": null,
   "id": "f0bf05e2-f059-4691-9e93-1e43c2a1ad7b",
   "metadata": {},
   "outputs": [],
   "source": [
    "#sympy.__version__"
   ]
  },
  {
   "cell_type": "code",
   "execution_count": null,
   "id": "539eec19-e1d7-4edf-ab88-1654c1441ddd",
   "metadata": {},
   "outputs": [],
   "source": [
    "#sympy.__file__"
   ]
  },
  {
   "cell_type": "code",
   "execution_count": null,
   "id": "29c64c53-8a8a-46d4-bf6e-c2d090769ffd",
   "metadata": {},
   "outputs": [],
   "source": [
    "%matplotlib inline\n",
    "import nest                                                          # import NEST module\n",
    "import matplotlib.pyplot as plt                                      # for plotting\n",
    "from pynestml.frontend.pynestml_frontend import generate_nest_target # NESTML"
   ]
  },
  {
   "cell_type": "code",
   "execution_count": null,
   "id": "e8d70529-3130-4b32-b495-18c2c888bd92",
   "metadata": {},
   "outputs": [],
   "source": [
    "# compile nestml model (needs to be done only once)\n",
    "generate_nest_target(input_path=\"./iaf_psc_exp.nestml\",\n",
    "                     target_path=\"./nestml_target\",\n",
    "                     install_path=\".\",\n",
    "                     suffix=\"_nestml\",                     \n",
    "                     logging_level='ERROR')    \n",
    "\n",
    "# install resulting NESTML module to make models available in NEST\n",
    "nest.Install('nestmlmodule') "
   ]
  },
  {
   "cell_type": "code",
   "execution_count": null,
   "id": "6f244edf-cefb-46cc-89fd-79978763eea1",
   "metadata": {},
   "outputs": [],
   "source": [
    "nest.ResetKernel() # reset simulation kernel \n",
    "\n",
    "neuron=nest.Create('iaf_psc_exp_nestml') # create LIF neuron with exponential synaptic currents\n",
    "\n",
    "# create a spike generator, and set it up to create two spikes at 10 and 30ms\n",
    "spikegenerator=nest.Create('spike_generator', params={'spike_times': [10.,30.]}) \n",
    "\n",
    "# create multimeter and set it up to record the membrane potential V_m\n",
    "multimeter=nest.Create('multimeter', {'record_from': ['V_m']})\n",
    "\n",
    "# connect spike generator with neuron with synaptic weight 100 pA\n",
    "nest.Connect(spikegenerator, neuron,syn_spec={'weight': 50.0})\n",
    "\n",
    "nest.Connect(multimeter, neuron)  # connect multimeter to the neuron\n",
    "\n",
    "nest.Simulate(100.) # run simulation for 100ms\n",
    "\n",
    "# read out recording time and voltage from voltmeter\n",
    "times=multimeter.get('events')['times']\n",
    "voltage=multimeter.get('events')['V_m']"
   ]
  },
  {
   "cell_type": "code",
   "execution_count": null,
   "id": "208862eb-284d-47fb-904d-fc12e7e144f7",
   "metadata": {},
   "outputs": [],
   "source": [
    "# plot results\n",
    "plt.figure(1)\n",
    "plt.clf()\n",
    "plt.plot(times,voltage,'k-',lw=2)\n",
    "plt.xlabel('time (ms)')\n",
    "plt.ylabel('membrane potential (mV)')\n",
    "plt.show()\n",
    "#plt.savefig('./hello_world_nestml.pdf')"
   ]
  },
  {
   "cell_type": "code",
   "execution_count": null,
   "id": "50c8fe40-df59-4c81-9ae5-655fc794a1b7",
   "metadata": {},
   "outputs": [],
   "source": []
  }
 ],
 "metadata": {
  "kernelspec": {
   "display_name": "EBRAINS-test",
   "language": "python",
   "name": "ebrains-test"
  },
  "language_info": {
   "codemirror_mode": {
    "name": "ipython",
    "version": 3
   },
   "file_extension": ".py",
   "mimetype": "text/x-python",
   "name": "python",
   "nbconvert_exporter": "python",
   "pygments_lexer": "ipython3",
   "version": "3.8.11"
  }
 },
 "nbformat": 4,
 "nbformat_minor": 5
}
